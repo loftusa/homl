{
 "cells": [
  {
   "cell_type": "markdown",
   "id": "f43c2a44-bfd5-4dce-ad82-79dea90eafaa",
   "metadata": {},
   "source": [
    "## Classification MLPs"
   ]
  },
  {
   "cell_type": "code",
   "execution_count": 3,
   "id": "f272bb6a-c0e9-4ebb-9e7b-feae8dce2115",
   "metadata": {},
   "outputs": [],
   "source": [
    "import tensorflow as tf\n",
    "\n",
    "fashion_mnist = tf.keras.datasets.fashion_mnist.load_data()"
   ]
  },
  {
   "cell_type": "code",
   "execution_count": 8,
   "id": "d43fc78c-be39-45d4-a073-4229afa3cd39",
   "metadata": {},
   "outputs": [],
   "source": [
    "(X_train_full, y_train_full), (X_test, y_test) = fashion_mnist"
   ]
  },
  {
   "cell_type": "code",
   "execution_count": 9,
   "id": "0e8f2135-eb4d-4391-9e74-d59a99cd4da2",
   "metadata": {},
   "outputs": [],
   "source": [
    "X_train, y_train = X_train_full[:-5000], y_train_full[:-5000]\n",
    "X_valid, y_valid = X_train_full[-5000:], y_train_full[-5000:]"
   ]
  },
  {
   "cell_type": "code",
   "execution_count": 10,
   "id": "d797c7a0-d600-45d4-87fc-da61767e4af3",
   "metadata": {},
   "outputs": [],
   "source": [
    "class_names = [\"T-shirt/top\", \"Trouser\", \"Pullover\", \"Dress\", \"Coat\",\n",
    "               \"Sandal\", \"Shirt\", \"Sneaker\", \"Bag\", \"Ankle boot\"]\n"
   ]
  },
  {
   "cell_type": "code",
   "execution_count": 11,
   "id": "7c0f7266-d4da-4896-b7cb-56c6ffe23162",
   "metadata": {},
   "outputs": [
    {
     "name": "stderr",
     "output_type": "stream",
     "text": [
      "2023-02-19 12:13:33.955705: I tensorflow/core/platform/cpu_feature_guard.cc:193] This TensorFlow binary is optimized with oneAPI Deep Neural Network Library (oneDNN) to use the following CPU instructions in performance-critical operations:  AVX2 FMA\n",
      "To enable them in other operations, rebuild TensorFlow with the appropriate compiler flags.\n"
     ]
    }
   ],
   "source": [
    "tf.random.set_seed(42)\n",
    "model = tf.keras.Sequential()\n",
    "model.add(tf.keras.layers.Input(shape=[28, 28]))\n",
    "model.add(tf.keras.layers.Flatten())\n",
    "model.add(tf.keras.layers.Dense(300, activation=\"relu\"))\n",
    "model.add(tf.keras.layers.Dense(100, activation=\"relu\"))\n",
    "model.add(tf.keras.layers.Dense(10, activation=\"softmax\"))"
   ]
  },
  {
   "cell_type": "markdown",
   "id": "d0901c73-03ef-4e1f-b71c-af344f637c84",
   "metadata": {},
   "source": [
    "## Building Complex Models Using the Functional API"
   ]
  },
  {
   "cell_type": "code",
   "execution_count": null,
   "id": "abafd0db-3486-46c7-adcb-3f3dc53ed8af",
   "metadata": {},
   "outputs": [],
   "source": []
  },
  {
   "cell_type": "code",
   "execution_count": 23,
   "id": "0d7984c8-fe50-48be-b082-88c89cea5bf3",
   "metadata": {},
   "outputs": [
    {
     "data": {
      "text/plain": [
       "(11610, 8)"
      ]
     },
     "execution_count": 23,
     "metadata": {},
     "output_type": "execute_result"
    }
   ],
   "source": [
    "X_train.shape"
   ]
  },
  {
   "cell_type": "code",
   "execution_count": 76,
   "id": "de79b898-3956-4f35-a8ec-548f10b19fd4",
   "metadata": {},
   "outputs": [],
   "source": [
    "from sklearn.datasets import fetch_california_housing\n",
    "from sklearn.metrics import mean_squared_error\n",
    "from sklearn.model_selection import train_test_split\n",
    "from sklearn.neural_network import MLPRegressor\n",
    "from sklearn.pipeline import make_pipeline\n",
    "from sklearn.preprocessing import StandardScaler\n",
    "from tensorflow.keras import layers\n",
    "\n",
    "housing = fetch_california_housing()\n",
    "X_train_full, X_test, y_train_full, y_test = train_test_split(\n",
    "    housing.data, housing.target, random_state=42)\n",
    "X_train, X_valid, y_train, y_valid = train_test_split(\n",
    "    X_train_full, y_train_full, random_state=42)\n",
    "\n",
    "# set up network\n",
    "normalization_layer = layers.Normalization()\n",
    "hidden_layer1 = layers.Dense(30, activation='relu')\n",
    "hidden_layer2 = layers.Dense(30, activation='relu')\n",
    "concat_layer = layers.Concatenate()\n",
    "out_layer = layers.Dense(1)\n",
    "\n",
    "input_ = layers.Input(shape=X_train.shape[1:])\n",
    "normalized = normalization_layer(input_)  # (N, 8)\n",
    "hidden1 = hidden_layer1(normalized)  # (N, 30)\n",
    "hidden2 = hidden_layer2(hidden1)  # (N, 30)\n",
    "concat = concat_layer([normalized, hidden2])  # (N, 38)\n",
    "output = out_layer(concat)  #(N, 1)"
   ]
  },
  {
   "cell_type": "code",
   "execution_count": 77,
   "id": "2153130a-18e0-42c9-af0b-84e1615d35d8",
   "metadata": {},
   "outputs": [
    {
     "data": {
      "text/plain": [
       "TensorShape([None, 8])"
      ]
     },
     "execution_count": 77,
     "metadata": {},
     "output_type": "execute_result"
    }
   ],
   "source": [
    "input_.shape"
   ]
  },
  {
   "cell_type": "code",
   "execution_count": 78,
   "id": "c477c628-ffda-48aa-807e-a63137c3b00e",
   "metadata": {},
   "outputs": [
    {
     "data": {
      "text/plain": [
       "TensorShape([None, 8])"
      ]
     },
     "execution_count": 78,
     "metadata": {},
     "output_type": "execute_result"
    }
   ],
   "source": [
    "normalized.shape"
   ]
  },
  {
   "cell_type": "code",
   "execution_count": 79,
   "id": "140681e1-a45d-4037-a981-35340965ae3d",
   "metadata": {},
   "outputs": [
    {
     "data": {
      "text/plain": [
       "TensorShape([None, 30])"
      ]
     },
     "execution_count": 79,
     "metadata": {},
     "output_type": "execute_result"
    }
   ],
   "source": [
    "hidden1.shape"
   ]
  },
  {
   "cell_type": "code",
   "execution_count": 80,
   "id": "6a0215a2-5cb8-4c75-bbc1-2762a36f9e63",
   "metadata": {},
   "outputs": [
    {
     "data": {
      "text/plain": [
       "TensorShape([None, 30])"
      ]
     },
     "execution_count": 80,
     "metadata": {},
     "output_type": "execute_result"
    }
   ],
   "source": [
    "hidden2.shape"
   ]
  },
  {
   "cell_type": "code",
   "execution_count": 81,
   "id": "ffc7d3a0-51e6-4f5d-8520-20ad0ce2f6f8",
   "metadata": {},
   "outputs": [
    {
     "data": {
      "text/plain": [
       "TensorShape([None, 38])"
      ]
     },
     "execution_count": 81,
     "metadata": {},
     "output_type": "execute_result"
    }
   ],
   "source": [
    "concat.shape"
   ]
  },
  {
   "cell_type": "code",
   "execution_count": 82,
   "id": "a3b35fd7-4027-4f50-9e1e-25c2afb98d9e",
   "metadata": {},
   "outputs": [
    {
     "data": {
      "text/plain": [
       "TensorShape([None, 1])"
      ]
     },
     "execution_count": 82,
     "metadata": {},
     "output_type": "execute_result"
    }
   ],
   "source": [
    "output.shape"
   ]
  },
  {
   "cell_type": "markdown",
   "id": "dfaf31b7-9f95-4a7a-acf2-98e8bbd6d7ce",
   "metadata": {},
   "source": [
    "### Sending Stuff Through Different Paths"
   ]
  },
  {
   "cell_type": "code",
   "execution_count": 85,
   "id": "93ee4534-48f9-4ad8-bba2-5cae8f04d065",
   "metadata": {},
   "outputs": [],
   "source": [
    "input_wide = tf.keras.layers.Input(shape=[5], name='input_wide')  # features 0 to 4\n",
    "input_deep = tf.keras.layers.Input(shape=[6], name='input_deep')  # features 2 to 7\n",
    "norm_layer_wide = tf.keras.layers.Normalization()\n",
    "norm_layer_deep = tf.keras.layers.Normalization()\n",
    "norm_wide = norm_layer_wide(input_wide)\n",
    "norm_deep = norm_layer_deep(input_deep)\n",
    "hidden1 = tf.keras.layers.Dense(30, activation=\"relu\")(norm_deep)\n",
    "hidden2 = tf.keras.layers.Dense(30, activation=\"relu\")(hidden1)\n",
    "concat = tf.keras.layers.concatenate([norm_wide, hidden2])\n",
    "output = tf.keras.layers.Dense(1)(concat)\n",
    "aux_output = tf.keras.layers.Dense(1)(hidden2)\n",
    "model = tf.keras.Model(inputs=[input_wide, input_deep], outputs=[output, aux_output])\n",
    "\n",
    "optimizer = tf.keras.optimizers.Adam(learning_rate=1e-3)\n",
    "model.compile(loss=(\"mse\", \"mse\"), loss_weights=(0.9, 0.1), \n",
    "              optimizer=optimizer, metrics=[\"RootMeanSquaredError\"])\n",
    "\n",
    "X_train_wide, X_train_deep = X_train[:, :5], X_train[:, 2:]\n",
    "X_valid_wide, X_valid_deep = X_valid[:, :5], X_valid[:, 2:]\n",
    "X_test_wide, X_test_deep = X_test[:, :5], X_test[:, 2:]\n",
    "X_new_wide, X_new_deep = X_test_wide[:3], X_test_deep[:3]\n",
    "\n",
    "norm_layer_wide.adapt(X_train_wide)\n",
    "norm_layer_deep.adapt(X_train_deep)\n",
    "x_dict_train = {'input_wide': X_train_wide, 'input_deep': X_train_deep}\n",
    "x_dict_test = {'input_wide': X_test_wide, 'input_deep': X_test_deep}"
   ]
  },
  {
   "cell_type": "code",
   "execution_count": 85,
   "id": "d02ca2e2-8307-44dd-85bb-1be8f972c5aa",
   "metadata": {},
   "outputs": [],
   "source": [
    "history = model.fit(x_dict_train, y_train, epochs=20,\n",
    "                    validation_data=((X_valid_wide, X_valid_deep), y_valid))"
   ]
  },
  {
   "cell_type": "code",
   "execution_count": 89,
   "id": "0b5354ea-9f92-4b91-80df-b7fad54f9b96",
   "metadata": {},
   "outputs": [
    {
     "name": "stdout",
     "output_type": "stream",
     "text": [
      "162/162 [==============================] - 0s 1ms/step - loss: 0.3400 - dense_92_loss: 0.3335 - dense_93_loss: 0.3989 - dense_92_root_mean_squared_error: 0.5775 - dense_93_root_mean_squared_error: 0.6316\n"
     ]
    }
   ],
   "source": [
    "eval_results = model.evaluate(x_dict_test, y_test)\n",
    "weighted_sum_of_losses, main_loss, aux_loss, main_rmse, aux_rmse = eval_results"
   ]
  },
  {
   "cell_type": "code",
   "execution_count": 96,
   "id": "ada5ca3a-db99-4a90-819b-6cfedf007752",
   "metadata": {},
   "outputs": [
    {
     "name": "stdout",
     "output_type": "stream",
     "text": [
      "1/1 [==============================] - 0s 22ms/step\n",
      "1/1 [==============================] - 0s 22ms/step\n"
     ]
    }
   ],
   "source": [
    "y_pred_main, y_pred_aux = model.predict((X_new_wide, X_new_deep))\n",
    "y_pred_tuple = model.predict((X_new_wide, X_new_deep))\n",
    "y_pred = dict(zip(model.output_names, y_pred_tuple))"
   ]
  },
  {
   "cell_type": "code",
   "execution_count": 97,
   "id": "e776c6e6-c8c2-4b53-a7d7-c4632f4ffd98",
   "metadata": {},
   "outputs": [
    {
     "data": {
      "text/plain": [
       "{'dense_92': array([[0.3802902],\n",
       "        [1.2770959],\n",
       "        [3.5700347]], dtype=float32),\n",
       " 'dense_93': array([[0.50115055],\n",
       "        [1.2095529 ],\n",
       "        [3.3265321 ]], dtype=float32)}"
      ]
     },
     "execution_count": 97,
     "metadata": {},
     "output_type": "execute_result"
    }
   ],
   "source": [
    "y_pred"
   ]
  },
  {
   "cell_type": "markdown",
   "id": "4d1eae7e-44af-44cc-935e-42dc5281912e",
   "metadata": {},
   "source": [
    "## Subclassing API"
   ]
  },
  {
   "cell_type": "code",
   "execution_count": null,
   "id": "60de7525-aa6e-46f2-b6b9-b4094ccfc496",
   "metadata": {},
   "outputs": [],
   "source": []
  }
 ],
 "metadata": {
  "kernelspec": {
   "display_name": "Python 3 (ipykernel)",
   "language": "python",
   "name": "python3"
  },
  "language_info": {
   "codemirror_mode": {
    "name": "ipython",
    "version": 3
   },
   "file_extension": ".py",
   "mimetype": "text/x-python",
   "name": "python",
   "nbconvert_exporter": "python",
   "pygments_lexer": "ipython3",
   "version": "3.10.0"
  }
 },
 "nbformat": 4,
 "nbformat_minor": 5
}
