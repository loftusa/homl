{
 "cells": [
  {
   "cell_type": "markdown",
   "metadata": {},
   "source": [
    "# Introduction to Artificial Neural Networks with Keras"
   ]
  },
  {
   "cell_type": "markdown",
   "metadata": {},
   "source": [
    "## Make training data"
   ]
  },
  {
   "cell_type": "code",
   "execution_count": 19,
   "metadata": {},
   "outputs": [],
   "source": [
    "import numpy as np\n",
    "import matplotlib.pyplot as plt\n",
    "import matplotlib.cm as cm\n",
    "from matplotlib.colors import Normalize"
   ]
  },
  {
   "cell_type": "code",
   "execution_count": 20,
   "metadata": {},
   "outputs": [
    {
     "data": {
      "image/png": "[encoded data removed]",
      "text/plain": [
       "<Figure size 1800x360 with 6 Axes>"
      ]
     },
     "metadata": {
      "needs_background": "light"
     },
     "output_type": "display_data"
    }
   ],
   "source": [
    "dim = (8, 8)\n",
    "stacknum = 5\n",
    "\n",
    "zeros = np.zeros(dim)\n",
    "whites = zeros + np.abs(np.random.randn(5, *dim)) * (np.arange(1, stacknum+1)*.1)[:, None, None]\n",
    "fig, axs = plt.subplots(1, 5, figsize=(25, 5))\n",
    "for i, ax in enumerate(axs.flat):\n",
    "    ax.imshow(whites[i], cmap=\"Greys\", vmin=0, vmax=1)\n",
    "    \n",
    "norm = Normalize(vmin=0, vmax=1)\n",
    "im = cm.ScalarMappable(cmap=\"Greys\", norm=norm)\n",
    "fig.colorbar(im, ax=axs);"
   ]
  },
  {
   "cell_type": "code",
   "execution_count": 21,
   "metadata": {},
   "outputs": [
    {
     "data": {
      "image/png": "[encoded data removed]",
      "text/plain": [
       "<Figure size 1800x360 with 6 Axes>"
      ]
     },
     "metadata": {
      "needs_background": "light"
     },
     "output_type": "display_data"
    }
   ],
   "source": [
    "dim = (8, 8)\n",
    "stacknum = 5\n",
    "\n",
    "ones = np.ones(dim)\n",
    "blacks = ones - np.abs(np.random.randn(5, *dim)) * (np.arange(1, stacknum+1)*.1)[:, None, None]\n",
    "fig, axs = plt.subplots(1, 5, figsize=(25, 5))\n",
    "for i, ax in enumerate(axs.flat):\n",
    "    ax.imshow(blacks[i], cmap=\"Greys\", vmin=0, vmax=1)\n",
    "    \n",
    "norm = Normalize(vmin=0, vmax=1)\n",
    "im = cm.ScalarMappable(cmap=\"Greys\", norm=norm)\n",
    "fig.colorbar(im, ax=axs);"
   ]
  },
  {
   "cell_type": "markdown",
   "metadata": {},
   "source": [
    "### Get data"
   ]
  },
  {
   "cell_type": "code",
   "execution_count": 39,
   "metadata": {},
   "outputs": [],
   "source": [
    "import tensorflow as tf\n",
    "from tensorflow import keras\n",
    "\n",
    "from keras.datasets.fashion_mnist import load_data\n",
    "(X_train_full, y_train_full), (X_test, y_test) = load_data()\n",
    "\n",
    "# get validation set\n",
    "X_valid, y_valid = X_train_full[:5000]/255.0, y_train_full[:5000]\n",
    "X_train, y_train = X_train_full[5000:]/255.0, y_train_full[5000:]\n",
    "class_names = [\"T-shirt/top\", \"Trouser\", \"Pullover\", \"Dress\", \"Coat\", \"Sandal\", \"Shirt\", \n",
    "               \"Sneaker\", \"Bag\", \"Ankle boot\"]\n",
    "\n",
    "y_names_train = [class_names[i] for i in y_train]"
   ]
  },
  {
   "cell_type": "markdown",
   "metadata": {},
   "source": [
    "### Train model"
   ]
  },
  {
   "cell_type": "code",
   "execution_count": 23,
   "metadata": {},
   "outputs": [
    {
     "name": "stdout",
     "output_type": "stream",
     "text": [
      "Epoch 1/30\n",
      "1719/1719 [==============================] - 2s 1ms/step - loss: 0.7111 - accuracy: 0.7656 - val_loss: 0.5067 - val_accuracy: 0.8304\n",
      "Epoch 2/30\n",
      "1719/1719 [==============================] - 2s 1ms/step - loss: 0.4874 - accuracy: 0.8301 - val_loss: 0.4430 - val_accuracy: 0.8522\n",
      "Epoch 3/30\n",
      "1719/1719 [==============================] - 2s 1ms/step - loss: 0.4445 - accuracy: 0.8440 - val_loss: 0.4195 - val_accuracy: 0.8590\n",
      "Epoch 4/30\n",
      "1719/1719 [==============================] - 2s 1ms/step - loss: 0.4163 - accuracy: 0.8555 - val_loss: 0.4063 - val_accuracy: 0.8596\n",
      "Epoch 5/30\n",
      "1719/1719 [==============================] - 2s 1ms/step - loss: 0.3970 - accuracy: 0.8611 - val_loss: 0.3819 - val_accuracy: 0.8678\n",
      "Epoch 6/30\n",
      "1719/1719 [==============================] - 2s 1ms/step - loss: 0.3807 - accuracy: 0.8664 - val_loss: 0.3911 - val_accuracy: 0.8644\n",
      "Epoch 7/30\n",
      "1719/1719 [==============================] - 2s 1ms/step - loss: 0.3666 - accuracy: 0.8713 - val_loss: 0.3771 - val_accuracy: 0.8650\n",
      "Epoch 8/30\n",
      "1719/1719 [==============================] - 2s 1ms/step - loss: 0.3552 - accuracy: 0.8745 - val_loss: 0.3627 - val_accuracy: 0.8748\n",
      "Epoch 9/30\n",
      "1719/1719 [==============================] - 2s 1ms/step - loss: 0.3462 - accuracy: 0.8776 - val_loss: 0.3517 - val_accuracy: 0.8810\n",
      "Epoch 10/30\n",
      "1719/1719 [==============================] - 2s 1ms/step - loss: 0.3356 - accuracy: 0.8807 - val_loss: 0.3524 - val_accuracy: 0.8772\n",
      "Epoch 11/30\n",
      "1719/1719 [==============================] - 2s 1ms/step - loss: 0.3278 - accuracy: 0.8826 - val_loss: 0.3402 - val_accuracy: 0.8822\n",
      "Epoch 12/30\n",
      "1719/1719 [==============================] - 2s 1ms/step - loss: 0.3194 - accuracy: 0.8865 - val_loss: 0.3360 - val_accuracy: 0.8820\n",
      "Epoch 13/30\n",
      "1719/1719 [==============================] - 2s 1ms/step - loss: 0.3129 - accuracy: 0.8875 - val_loss: 0.3287 - val_accuracy: 0.8844\n",
      "Epoch 14/30\n",
      "1719/1719 [==============================] - 2s 1ms/step - loss: 0.3054 - accuracy: 0.8903 - val_loss: 0.3294 - val_accuracy: 0.8834\n",
      "Epoch 15/30\n",
      "1719/1719 [==============================] - 2s 1ms/step - loss: 0.2989 - accuracy: 0.8944 - val_loss: 0.3361 - val_accuracy: 0.8804\n",
      "Epoch 16/30\n",
      "1719/1719 [==============================] - 2s 1ms/step - loss: 0.2926 - accuracy: 0.8948 - val_loss: 0.3254 - val_accuracy: 0.8856\n",
      "Epoch 17/30\n",
      "1719/1719 [==============================] - 2s 1ms/step - loss: 0.2871 - accuracy: 0.8964 - val_loss: 0.3120 - val_accuracy: 0.8878\n",
      "Epoch 18/30\n",
      "1719/1719 [==============================] - 2s 1ms/step - loss: 0.2822 - accuracy: 0.8980 - val_loss: 0.3122 - val_accuracy: 0.8882\n",
      "Epoch 19/30\n",
      "1719/1719 [==============================] - 2s 1ms/step - loss: 0.2766 - accuracy: 0.9010 - val_loss: 0.3125 - val_accuracy: 0.8882\n",
      "Epoch 20/30\n",
      "1719/1719 [==============================] - 2s 1ms/step - loss: 0.2717 - accuracy: 0.9017 - val_loss: 0.3044 - val_accuracy: 0.8918\n",
      "Epoch 21/30\n",
      "1719/1719 [==============================] - 2s 1ms/step - loss: 0.2659 - accuracy: 0.9046 - val_loss: 0.3163 - val_accuracy: 0.8858\n",
      "Epoch 22/30\n",
      "1719/1719 [==============================] - 2s 1ms/step - loss: 0.2629 - accuracy: 0.9051 - val_loss: 0.3029 - val_accuracy: 0.8896\n",
      "Epoch 23/30\n",
      "1719/1719 [==============================] - 2s 1ms/step - loss: 0.2572 - accuracy: 0.9079 - val_loss: 0.2989 - val_accuracy: 0.8922\n",
      "Epoch 24/30\n",
      "1719/1719 [==============================] - 2s 1ms/step - loss: 0.2540 - accuracy: 0.9085 - val_loss: 0.3119 - val_accuracy: 0.8878\n",
      "Epoch 25/30\n",
      "1719/1719 [==============================] - 2s 1ms/step - loss: 0.2490 - accuracy: 0.9103 - val_loss: 0.3007 - val_accuracy: 0.8932\n",
      "Epoch 26/30\n",
      "1719/1719 [==============================] - 2s 1ms/step - loss: 0.2452 - accuracy: 0.9109 - val_loss: 0.3068 - val_accuracy: 0.8916\n",
      "Epoch 27/30\n",
      "1719/1719 [==============================] - 2s 1ms/step - loss: 0.2407 - accuracy: 0.9132 - val_loss: 0.3011 - val_accuracy: 0.8904\n",
      "Epoch 28/30\n",
      "1719/1719 [==============================] - 2s 1ms/step - loss: 0.2369 - accuracy: 0.9151 - val_loss: 0.3014 - val_accuracy: 0.8940\n",
      "Epoch 29/30\n",
      "1719/1719 [==============================] - 2s 1ms/step - loss: 0.2338 - accuracy: 0.9161 - val_loss: 0.2891 - val_accuracy: 0.8944\n",
      "Epoch 30/30\n",
      "1719/1719 [==============================] - 2s 1ms/step - loss: 0.2286 - accuracy: 0.9184 - val_loss: 0.2950 - val_accuracy: 0.8908\n"
     ]
    }
   ],
   "source": [
    "model = keras.models.Sequential([\n",
    "keras.layers.Flatten(input_shape=X_valid[0].shape),\n",
    "keras.layers.Dense(300, activation='relu'),\n",
    "keras.layers.Dense(100, activation='relu'),\n",
    "keras.layers.Dense(10, activation='softmax'),\n",
    "                                ])\n",
    "\n",
    "\n",
    "weights, biases = model.layers[1].get_weights()\n",
    "\n",
    "model.compile(loss='sparse_categorical_crossentropy', optimizer=\"sgd\", metrics=[\"accuracy\"])\n",
    "\n",
    "history = model.fit(X_train, y_train, epochs=30, validation_data=(X_valid, y_valid))"
   ]
  },
  {
   "cell_type": "code",
   "execution_count": 24,
   "metadata": {},
   "outputs": [
    {
     "data": {
      "text/plain": [
       "<AxesSubplot:>"
      ]
     },
     "execution_count": 24,
     "metadata": {},
     "output_type": "execute_result"
    },
    {
     "data": {
      "image/png": "[encoded data removed]",
      "text/plain": [
       "<Figure size 1080x504 with 1 Axes>"
      ]
     },
     "metadata": {
      "needs_background": "light"
     },
     "output_type": "display_data"
    }
   ],
   "source": [
    "import pandas as pd\n",
    "\n",
    "pd.DataFrame(history.history).plot(figsize=(15, 7))"
   ]
  },
  {
   "cell_type": "code",
   "execution_count": 25,
   "metadata": {},
   "outputs": [
    {
     "data": {
      "text/plain": [
       "['Ankle boot', 'Pullover', 'Trouser']"
      ]
     },
     "execution_count": 25,
     "metadata": {},
     "output_type": "execute_result"
    }
   ],
   "source": [
    "to_pred = X_test[:3]\n",
    "\n",
    "prediction = model.predict(to_pred)\n",
    "vals = np.argmax(prediction, axis=1)\n",
    "\n",
    "[class_names[val] for val in vals]"
   ]
  },
  {
   "cell_type": "code",
   "execution_count": 26,
   "metadata": {},
   "outputs": [
    {
     "data": {
      "image/png": "[encoded data removed]",
      "text/plain": [
       "<Figure size 1080x360 with 3 Axes>"
      ]
     },
     "metadata": {
      "needs_background": "light"
     },
     "output_type": "display_data"
    }
   ],
   "source": [
    "fig, axs = plt.subplots(1, 3, figsize=(15, 5))\n",
    "\n",
    "for i, ax in enumerate(axs.flat):\n",
    "    ax.imshow(to_pred[i], cmap=\"Greys\")\n",
    "    ax.set_title(class_names[vals[i]])"
   ]
  },
  {
   "cell_type": "markdown",
   "metadata": {},
   "source": [
    "## Regression MLP"
   ]
  },
  {
   "cell_type": "markdown",
   "metadata": {},
   "source": [
    "Using california housing dataset"
   ]
  },
  {
   "cell_type": "code",
   "execution_count": 27,
   "metadata": {},
   "outputs": [],
   "source": [
    "from sklearn.datasets import fetch_california_housing\n",
    "from sklearn.model_selection import train_test_split\n",
    "from sklearn.preprocessing import StandardScaler\n",
    "\n",
    "housing = fetch_california_housing()"
   ]
  },
  {
   "cell_type": "code",
   "execution_count": 28,
   "metadata": {},
   "outputs": [],
   "source": [
    "X_train_full, X_test, y_train_full, y_test = train_test_split(housing.data, housing.target)\n",
    "X_train, X_valid, y_train, y_valid = train_test_split(X_train_full, y_train_full)\n",
    "\n",
    "scaler = StandardScaler()\n",
    "X_train = scaler.fit_transform(X_train)\n",
    "X_valid = scaler.transform(X_valid)\n",
    "X_test = scaler.transform(X_test)"
   ]
  },
  {
   "cell_type": "code",
   "execution_count": 29,
   "metadata": {},
   "outputs": [
    {
     "name": "stdout",
     "output_type": "stream",
     "text": [
      "Epoch 1/20\n",
      "363/363 [==============================] - 1s 909us/step - loss: 0.8151 - val_loss: 0.5448\n",
      "Epoch 2/20\n",
      "363/363 [==============================] - 0s 742us/step - loss: 0.5219 - val_loss: 0.4707\n",
      "Epoch 3/20\n",
      "363/363 [==============================] - 0s 750us/step - loss: 0.4782 - val_loss: 0.4453\n",
      "Epoch 4/20\n",
      "363/363 [==============================] - 0s 730us/step - loss: 0.4526 - val_loss: 0.4375\n",
      "Epoch 5/20\n",
      "363/363 [==============================] - 0s 750us/step - loss: 0.4446 - val_loss: 0.4258\n",
      "Epoch 6/20\n",
      "363/363 [==============================] - 0s 778us/step - loss: 0.4362 - val_loss: 0.4190\n",
      "Epoch 7/20\n",
      "363/363 [==============================] - 0s 746us/step - loss: 0.4694 - val_loss: 0.4124\n",
      "Epoch 8/20\n",
      "363/363 [==============================] - 0s 725us/step - loss: 0.4302 - val_loss: 0.4111\n",
      "Epoch 9/20\n",
      "363/363 [==============================] - 0s 722us/step - loss: 0.4208 - val_loss: 0.4240\n",
      "Epoch 10/20\n",
      "363/363 [==============================] - 0s 723us/step - loss: 0.4173 - val_loss: 0.4020\n",
      "Epoch 11/20\n",
      "363/363 [==============================] - 0s 714us/step - loss: 0.4101 - val_loss: 0.3957\n",
      "Epoch 12/20\n",
      "363/363 [==============================] - 0s 749us/step - loss: 0.4058 - val_loss: 0.3897\n",
      "Epoch 13/20\n",
      "363/363 [==============================] - 0s 725us/step - loss: 0.4011 - val_loss: 0.3912\n",
      "Epoch 14/20\n",
      "363/363 [==============================] - 0s 737us/step - loss: 0.3992 - val_loss: 0.3841\n",
      "Epoch 15/20\n",
      "363/363 [==============================] - 0s 736us/step - loss: 0.3952 - val_loss: 0.3859\n",
      "Epoch 16/20\n",
      "363/363 [==============================] - 0s 730us/step - loss: 0.3990 - val_loss: 0.3935\n",
      "Epoch 17/20\n",
      "363/363 [==============================] - 0s 739us/step - loss: 0.3887 - val_loss: 0.3782\n",
      "Epoch 18/20\n",
      "363/363 [==============================] - 0s 738us/step - loss: 0.3913 - val_loss: 0.3813\n",
      "Epoch 19/20\n",
      "363/363 [==============================] - 0s 738us/step - loss: 0.3819 - val_loss: 0.3895\n",
      "Epoch 20/20\n",
      "363/363 [==============================] - 0s 747us/step - loss: 0.3816 - val_loss: 0.3789\n"
     ]
    }
   ],
   "source": [
    "model = keras.models.Sequential([\n",
    "     keras.layers.Dense(30, activation=\"relu\", input_shape=X_train.shape[1:]),\n",
    "     keras.layers.Dense(1)\n",
    "])\n",
    "\n",
    "model.compile(loss=\"mean_squared_error\", optimizer=\"sgd\")\n",
    "\n",
    "history = model.fit(X_train, y_train, epochs=20, validation_data=(X_valid, y_valid))\n"
   ]
  },
  {
   "cell_type": "code",
   "execution_count": 30,
   "metadata": {},
   "outputs": [
    {
     "name": "stdout",
     "output_type": "stream",
     "text": [
      "162/162 [==============================] - 0s 600us/step - loss: 0.3802\n"
     ]
    }
   ],
   "source": [
    "mse_test = model.evaluate(X_test, y_test)"
   ]
  },
  {
   "cell_type": "code",
   "execution_count": 31,
   "metadata": {},
   "outputs": [],
   "source": [
    "X_new = X_test[:3]\n",
    "y_pred = model.predict(X_new)"
   ]
  },
  {
   "cell_type": "code",
   "execution_count": 32,
   "metadata": {},
   "outputs": [
    {
     "data": {
      "text/plain": [
       "array([[2.3813152],\n",
       "       [1.4061451],\n",
       "       [1.4619586]], dtype=float32)"
      ]
     },
     "execution_count": 32,
     "metadata": {},
     "output_type": "execute_result"
    }
   ],
   "source": [
    "y_pred"
   ]
  },
  {
   "cell_type": "markdown",
   "metadata": {},
   "source": [
    "### wide & deep"
   ]
  },
  {
   "cell_type": "markdown",
   "metadata": {},
   "source": [
    "build a network whose input connects to both the next layer and the output layer"
   ]
  },
  {
   "cell_type": "code",
   "execution_count": 33,
   "metadata": {},
   "outputs": [
    {
     "data": {
      "text/plain": [
       "(8,)"
      ]
     },
     "execution_count": 33,
     "metadata": {},
     "output_type": "execute_result"
    }
   ],
   "source": [
    "X_train.shape[1:]"
   ]
  },
  {
   "cell_type": "markdown",
   "metadata": {},
   "source": [
    "### idk"
   ]
  },
  {
   "cell_type": "code",
   "execution_count": 34,
   "metadata": {},
   "outputs": [],
   "source": [
    "input_ = keras.layers.Input(shape=X_train.shape[1:])  # Make an input layer, same neurons as # features\n",
    "hidden1 = keras.layers.Dense(30, activation=\"relu\")(input_)  # Take input layer, run it through 30 neurons with relu activation\n",
    "hidden2 = keras.layers.Dense(30, activation=\"relu\")(hidden1)  # take first layer, run it thorugh 30 neurons with relu activation\n",
    "concat = keras.layers.Concatenate()([input_, hidden2])  # Create concattenated layer, connecting input layer and second layer\n",
    "output = keras.layers.Dense(1)(concat)  # Take concatenated layer, get binary output\n",
    "model = keras.Model(inputs=[input_], outputs=[output])  # Make a model"
   ]
  },
  {
   "cell_type": "code",
   "execution_count": 35,
   "metadata": {},
   "outputs": [
    {
     "name": "stdout",
     "output_type": "stream",
     "text": [
      "Epoch 1/20\n"
     ]
    },
    {
     "name": "stderr",
     "output_type": "stream",
     "text": [
      "/Users/alex/.pyenv/versions/3.9.0/lib/python3.9/site-packages/keras/optimizer_v2/gradient_descent.py:102: UserWarning: The `lr` argument is deprecated, use `learning_rate` instead.\n",
      "  super(SGD, self).__init__(name, **kwargs)\n"
     ]
    },
    {
     "name": "stdout",
     "output_type": "stream",
     "text": [
      "363/363 [==============================] - 1s 1ms/step - loss: 1.9392 - val_loss: 0.8117\n",
      "Epoch 2/20\n",
      "363/363 [==============================] - 0s 834us/step - loss: 0.7679 - val_loss: 0.6894\n",
      "Epoch 3/20\n",
      "363/363 [==============================] - 0s 827us/step - loss: 0.6756 - val_loss: 0.6269\n",
      "Epoch 4/20\n",
      "363/363 [==============================] - 0s 784us/step - loss: 0.6207 - val_loss: 0.5864\n",
      "Epoch 5/20\n",
      "363/363 [==============================] - 0s 807us/step - loss: 0.5832 - val_loss: 0.5591\n",
      "Epoch 6/20\n",
      "363/363 [==============================] - 0s 800us/step - loss: 0.5564 - val_loss: 0.5411\n",
      "Epoch 7/20\n",
      "363/363 [==============================] - 0s 803us/step - loss: 0.5365 - val_loss: 0.5257\n",
      "Epoch 8/20\n",
      "363/363 [==============================] - 0s 850us/step - loss: 0.5217 - val_loss: 0.5130\n",
      "Epoch 9/20\n",
      "363/363 [==============================] - 0s 776us/step - loss: 0.5104 - val_loss: 0.5157\n",
      "Epoch 10/20\n",
      "363/363 [==============================] - 0s 791us/step - loss: 0.5017 - val_loss: 0.4989\n",
      "Epoch 11/20\n",
      "363/363 [==============================] - 0s 796us/step - loss: 0.4949 - val_loss: 0.4934\n",
      "Epoch 12/20\n",
      "363/363 [==============================] - 0s 826us/step - loss: 0.4888 - val_loss: 0.4939\n",
      "Epoch 13/20\n",
      "363/363 [==============================] - 0s 810us/step - loss: 0.4842 - val_loss: 0.4885\n",
      "Epoch 14/20\n",
      "363/363 [==============================] - 0s 778us/step - loss: 0.4800 - val_loss: 0.4798\n",
      "Epoch 15/20\n",
      "363/363 [==============================] - 0s 803us/step - loss: 0.4763 - val_loss: 0.4717\n",
      "Epoch 16/20\n",
      "363/363 [==============================] - 0s 793us/step - loss: 0.4733 - val_loss: 0.4733\n",
      "Epoch 17/20\n",
      "363/363 [==============================] - 0s 787us/step - loss: 0.4700 - val_loss: 0.4693\n",
      "Epoch 18/20\n",
      "363/363 [==============================] - 0s 809us/step - loss: 0.4677 - val_loss: 0.4650\n",
      "Epoch 19/20\n",
      "363/363 [==============================] - 0s 790us/step - loss: 0.4649 - val_loss: 0.4627\n",
      "Epoch 20/20\n",
      "363/363 [==============================] - 0s 795us/step - loss: 0.4628 - val_loss: 0.4581\n"
     ]
    }
   ],
   "source": [
    "model.compile(loss=\"mse\", optimizer=keras.optimizers.SGD(lr=1e-3))\n",
    "history = model.fit(x=X_train, y=y_train, epochs=20, validation_data=(X_valid, y_valid))  # something fukd m8"
   ]
  },
  {
   "cell_type": "markdown",
   "metadata": {},
   "source": [
    "## Send subset of features through deep vs wide path"
   ]
  },
  {
   "cell_type": "code",
   "execution_count": 36,
   "metadata": {},
   "outputs": [
    {
     "name": "stdout",
     "output_type": "stream",
     "text": [
      "Epoch 1/20\n",
      "363/363 [==============================] - 1s 1ms/step - loss: 1.8265 - val_loss: 0.9121\n",
      "Epoch 2/20\n",
      "363/363 [==============================] - 0s 825us/step - loss: 0.8269 - val_loss: 0.7254\n",
      "Epoch 3/20\n",
      "363/363 [==============================] - 0s 837us/step - loss: 0.6998 - val_loss: 0.6475\n",
      "Epoch 4/20\n",
      "363/363 [==============================] - 0s 865us/step - loss: 0.6353 - val_loss: 0.6048\n",
      "Epoch 5/20\n",
      "363/363 [==============================] - 0s 826us/step - loss: 0.5970 - val_loss: 0.5722\n",
      "Epoch 6/20\n",
      "363/363 [==============================] - 0s 875us/step - loss: 0.5713 - val_loss: 0.5554\n",
      "Epoch 7/20\n",
      "363/363 [==============================] - 0s 836us/step - loss: 0.5534 - val_loss: 0.5392\n",
      "Epoch 8/20\n",
      "363/363 [==============================] - 0s 814us/step - loss: 0.5392 - val_loss: 0.5267\n",
      "Epoch 9/20\n",
      "363/363 [==============================] - 0s 826us/step - loss: 0.5280 - val_loss: 0.5239\n",
      "Epoch 10/20\n",
      "363/363 [==============================] - 0s 839us/step - loss: 0.5192 - val_loss: 0.5102\n",
      "Epoch 11/20\n",
      "363/363 [==============================] - 0s 840us/step - loss: 0.5120 - val_loss: 0.5122\n",
      "Epoch 12/20\n",
      "363/363 [==============================] - 0s 835us/step - loss: 0.5058 - val_loss: 0.4997\n",
      "Epoch 13/20\n",
      "363/363 [==============================] - 0s 814us/step - loss: 0.5004 - val_loss: 0.4949\n",
      "Epoch 14/20\n",
      "363/363 [==============================] - 0s 827us/step - loss: 0.4956 - val_loss: 0.4890\n",
      "Epoch 15/20\n",
      "363/363 [==============================] - 0s 830us/step - loss: 0.4913 - val_loss: 0.4856\n",
      "Epoch 16/20\n",
      "363/363 [==============================] - 0s 812us/step - loss: 0.4877 - val_loss: 0.4851\n",
      "Epoch 17/20\n",
      "363/363 [==============================] - 0s 830us/step - loss: 0.4844 - val_loss: 0.4766\n",
      "Epoch 18/20\n",
      "363/363 [==============================] - 0s 813us/step - loss: 0.4820 - val_loss: 0.4757\n",
      "Epoch 19/20\n",
      "363/363 [==============================] - 0s 837us/step - loss: 0.4798 - val_loss: 0.4720\n",
      "Epoch 20/20\n",
      "363/363 [==============================] - 0s 821us/step - loss: 0.4778 - val_loss: 0.4702\n",
      "162/162 [==============================] - 0s 554us/step - loss: 0.4520\n"
     ]
    }
   ],
   "source": [
    "input_A = keras.layers.Input(shape=[5], name=\"wide_input\")\n",
    "input_B = keras.layers.Input(shape=[6], name=\"deep_input\")\n",
    "hidden1 = keras.layers.Dense(30, activation=\"relu\")(input_B)\n",
    "hidden2 = keras.layers.Dense(30, activation=\"relu\")(hidden1)\n",
    "concat = keras.layers.concatenate([input_A, hidden2])\n",
    "output = keras.layers.Dense(1, name=\"output\")(concat)\n",
    "\n",
    "model = keras.Model(inputs=[input_A, input_B], outputs=[output])\n",
    "\n",
    "model.compile(loss=\"mse\", optimizer=keras.optimizers.SGD(lr=1e-3))\n",
    "\n",
    "# Separate dimensions for training data\n",
    "X_train_A, X_train_B = X_train[:, :5], X_train[:, 2:]\n",
    "X_valid_A, X_valid_B = X_valid[:, :5], X_valid[:, 2:]\n",
    "X_test_A, X_test_B = X_test[:, :5], X_test[:, 2:]\n",
    "X_new_A, X_new_B = X_test_A[:3], X_test_B[:3]\n",
    "\n",
    "history = model.fit(x=(X_train_A, X_train_B), y=y_train, epochs=20, validation_data=((X_valid_A, X_valid_B), y_valid))\n",
    "mse_test = model.evaluate((X_test_A, X_test_B), y_test)\n",
    "y_pred = model.predict((X_new_A, X_new_B))"
   ]
  },
  {
   "cell_type": "code",
   "execution_count": 37,
   "metadata": {},
   "outputs": [
    {
     "data": {
      "text/plain": [
       "array([[2.4996083],\n",
       "       [1.5954623],\n",
       "       [1.1704826]], dtype=float32)"
      ]
     },
     "execution_count": 37,
     "metadata": {},
     "output_type": "execute_result"
    }
   ],
   "source": [
    "y_pred"
   ]
  },
  {
   "cell_type": "markdown",
   "metadata": {},
   "source": [
    "## Subclassing API"
   ]
  },
  {
   "cell_type": "code",
   "execution_count": 38,
   "metadata": {},
   "outputs": [
    {
     "name": "stdout",
     "output_type": "stream",
     "text": [
      "Epoch 1/20\n",
      "363/363 [==============================] - 1s 1ms/step - loss: 4.2764 - output_1_loss: 1.9073 - output_2_loss: 2.3692 - val_loss: 2.2625 - val_output_1_loss: 0.9304 - val_output_2_loss: 1.3321\n",
      "Epoch 2/20\n",
      "363/363 [==============================] - 0s 904us/step - loss: 1.9601 - output_1_loss: 0.8115 - output_2_loss: 1.1486 - val_loss: 1.7779 - val_output_1_loss: 0.7639 - val_output_2_loss: 1.0140\n",
      "Epoch 3/20\n",
      "363/363 [==============================] - 0s 892us/step - loss: 1.7200 - output_1_loss: 0.7276 - output_2_loss: 0.9924 - val_loss: 1.5996 - val_output_1_loss: 0.6909 - val_output_2_loss: 0.9087\n",
      "Epoch 4/20\n",
      "363/363 [==============================] - 0s 898us/step - loss: 1.5703 - output_1_loss: 0.6695 - output_2_loss: 0.9008 - val_loss: 1.4775 - val_output_1_loss: 0.6334 - val_output_2_loss: 0.8440\n",
      "Epoch 5/20\n",
      "363/363 [==============================] - 0s 891us/step - loss: 1.4596 - output_1_loss: 0.6234 - output_2_loss: 0.8362 - val_loss: 1.3834 - val_output_1_loss: 0.5917 - val_output_2_loss: 0.7916\n",
      "Epoch 6/20\n",
      "363/363 [==============================] - 0s 900us/step - loss: 1.3801 - output_1_loss: 0.5892 - output_2_loss: 0.7910 - val_loss: 1.3129 - val_output_1_loss: 0.5611 - val_output_2_loss: 0.7518\n",
      "Epoch 7/20\n",
      "363/363 [==============================] - 0s 898us/step - loss: 1.3204 - output_1_loss: 0.5626 - output_2_loss: 0.7579 - val_loss: 1.2645 - val_output_1_loss: 0.5387 - val_output_2_loss: 0.7258\n",
      "Epoch 8/20\n",
      "363/363 [==============================] - 0s 939us/step - loss: 1.2754 - output_1_loss: 0.5427 - output_2_loss: 0.7326 - val_loss: 1.2222 - val_output_1_loss: 0.5262 - val_output_2_loss: 0.6960\n",
      "Epoch 9/20\n",
      "363/363 [==============================] - 0s 946us/step - loss: 1.2402 - output_1_loss: 0.5276 - output_2_loss: 0.7126 - val_loss: 1.1963 - val_output_1_loss: 0.5189 - val_output_2_loss: 0.6774\n",
      "Epoch 10/20\n",
      "363/363 [==============================] - 0s 911us/step - loss: 1.2149 - output_1_loss: 0.5169 - output_2_loss: 0.6980 - val_loss: 1.1731 - val_output_1_loss: 0.5071 - val_output_2_loss: 0.6659\n",
      "Epoch 11/20\n",
      "363/363 [==============================] - 0s 1ms/step - loss: 1.1948 - output_1_loss: 0.5082 - output_2_loss: 0.6866 - val_loss: 1.1515 - val_output_1_loss: 0.4975 - val_output_2_loss: 0.6540\n",
      "Epoch 12/20\n",
      "363/363 [==============================] - 0s 944us/step - loss: 1.1783 - output_1_loss: 0.5017 - output_2_loss: 0.6766 - val_loss: 1.1428 - val_output_1_loss: 0.4953 - val_output_2_loss: 0.6475\n",
      "Epoch 13/20\n",
      "363/363 [==============================] - 0s 907us/step - loss: 1.1627 - output_1_loss: 0.4955 - output_2_loss: 0.6672 - val_loss: 1.1285 - val_output_1_loss: 0.4882 - val_output_2_loss: 0.6402\n",
      "Epoch 14/20\n",
      "363/363 [==============================] - 0s 918us/step - loss: 1.1496 - output_1_loss: 0.4906 - output_2_loss: 0.6590 - val_loss: 1.1137 - val_output_1_loss: 0.4820 - val_output_2_loss: 0.6317\n",
      "Epoch 15/20\n",
      "363/363 [==============================] - 0s 941us/step - loss: 1.1375 - output_1_loss: 0.4862 - output_2_loss: 0.6513 - val_loss: 1.1040 - val_output_1_loss: 0.4803 - val_output_2_loss: 0.6238\n",
      "Epoch 16/20\n",
      "363/363 [==============================] - 0s 910us/step - loss: 1.1260 - output_1_loss: 0.4816 - output_2_loss: 0.6444 - val_loss: 1.0952 - val_output_1_loss: 0.4736 - val_output_2_loss: 0.6217\n",
      "Epoch 17/20\n",
      "363/363 [==============================] - 0s 915us/step - loss: 1.1159 - output_1_loss: 0.4779 - output_2_loss: 0.6381 - val_loss: 1.0881 - val_output_1_loss: 0.4738 - val_output_2_loss: 0.6143\n",
      "Epoch 18/20\n",
      "363/363 [==============================] - 0s 955us/step - loss: 1.1068 - output_1_loss: 0.4744 - output_2_loss: 0.6324 - val_loss: 1.0764 - val_output_1_loss: 0.4675 - val_output_2_loss: 0.6089\n",
      "Epoch 19/20\n",
      "363/363 [==============================] - 0s 905us/step - loss: 1.0977 - output_1_loss: 0.4710 - output_2_loss: 0.6267 - val_loss: 1.0683 - val_output_1_loss: 0.4639 - val_output_2_loss: 0.6044\n",
      "Epoch 20/20\n",
      "363/363 [==============================] - 0s 977us/step - loss: 1.0890 - output_1_loss: 0.4680 - output_2_loss: 0.6210 - val_loss: 1.0597 - val_output_1_loss: 0.4593 - val_output_2_loss: 0.6005\n",
      "162/162 [==============================] - 0s 595us/step - loss: 1.0330 - output_1_loss: 0.4464 - output_2_loss: 0.5866\n"
     ]
    }
   ],
   "source": [
    "class WideAndDeepModel(keras.Model):\n",
    "    def __init__(self, units=30, activation=\"relu\", **kwargs):\n",
    "        super().__init__(**kwargs)\n",
    "        self.hidden1 = keras.layers.Dense(units, activation=activation)\n",
    "        self.hidden2 = keras.layers.Dense(units, activation=activation)\n",
    "        self.main_output = keras.layers.Dense(1)\n",
    "        self.aux_output = keras.layers.Dense(1)\n",
    "        \n",
    "    def call(self, inputs):\n",
    "        input_A, input_B = inputs\n",
    "        hidden1 = self.hidden1(input_B)\n",
    "        hidden2 = self.hidden2(hidden1)\n",
    "        concat = keras.layers.concatenate([input_A, hidden2])\n",
    "        output = self.main_output(concat)\n",
    "        aux_output = self.aux_output(hidden2)\n",
    "        return output, aux_output\n",
    "        \n",
    "model = WideAndDeepModel()\n",
    "model.compile(loss=\"mse\", optimizer=keras.optimizers.SGD(lr=1e-3))\n",
    "history = model.fit(x=(X_train_A, X_train_B), y=y_train, epochs=20, validation_data=((X_valid_A, X_valid_B), y_valid))\n",
    "mse_test = model.evaluate((X_test_A, X_test_B), y_test)\n",
    "y_pred = model.predict((X_new_A, X_new_B))"
   ]
  },
  {
   "cell_type": "code",
   "execution_count": null,
   "metadata": {},
   "outputs": [],
   "source": []
  }
 ],
 "metadata": {
  "kernelspec": {
   "display_name": "Python 3 (ipykernel)",
   "language": "python",
   "name": "python3"
  },
  "language_info": {
   "codemirror_mode": {
    "name": "ipython",
    "version": 3
   },
   "file_extension": ".py",
   "mimetype": "text/x-python",
   "name": "python",
   "nbconvert_exporter": "python",
   "pygments_lexer": "ipython3",
   "version": "3.10.0"
  }
 },
 "nbformat": 4,
 "nbformat_minor": 4
}
